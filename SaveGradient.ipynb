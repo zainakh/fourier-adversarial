{
 "cells": [
  {
   "cell_type": "code",
   "execution_count": 1,
   "metadata": {},
   "outputs": [],
   "source": [
    "# Assuming you have loss funciton defined, saving the gradient works as follows\n",
    "grads = K.gradients(loss, model.input)\n",
    "gradEval = sess.run(grads, feed_dict={model.input:x})\n",
    "gradArray = np.asarray(gradEval, dtype=np.float32)\n",
    "\n",
    "np.savetxt(\"InitialGradientModel1.csv\", gradArray[0][0], delimiter=\",\")"
   ]
  }
 ],
 "metadata": {
  "kernelspec": {
   "display_name": "Python 3",
   "language": "python",
   "name": "python3"
  },
  "language_info": {
   "codemirror_mode": {
    "name": "ipython",
    "version": 3
   },
   "file_extension": ".py",
   "mimetype": "text/x-python",
   "name": "python",
   "nbconvert_exporter": "python",
   "pygments_lexer": "ipython3",
   "version": "3.6.8"
  }
 },
 "nbformat": 4,
 "nbformat_minor": 4
}
